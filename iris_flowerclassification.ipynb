{
 "cells": [
  {
   "cell_type": "code",
   "execution_count": null,
   "id": "866daeb4-6ff3-4fb9-92d3-271dba4de11a",
   "metadata": {},
   "outputs": [],
   "source": [
    "import pandas as pd\n",
    "import numpy as np\n",
    "import seaborn as sns\n",
    "import matplotlib.pyplot as plt\n",
    "\n",
    "from sklearn.datasets import load_iris\n",
    "from sklearn.model_selection import train_test_split\n",
    "from sklearn.ensemble import RandomForestClassifier\n",
    "from sklearn.metrics import accuracy_score, classification_report\n"
   ]
  },
  {
   "cell_type": "code",
   "execution_count": null,
   "id": "28874927-7837-4c1f-ba7a-f61355dbe5db",
   "metadata": {},
   "outputs": [],
   "source": [
    "# İris veri setini yükleme\n",
    "iris = load_iris()\n",
    "\n",
    "# Veri setini bir pandas DataFrame'e dönüştürme\n",
    "df = pd.DataFrame(data=iris.data, columns=iris.feature_names)\n",
    "df['target'] = iris.target\n",
    "\n",
    "# İlk 5 satırı gösterme\n",
    "df.head()\n"
   ]
  },
  {
   "cell_type": "code",
   "execution_count": null,
   "id": "692ceabd-b893-4714-9f0e-6847e7d06053",
   "metadata": {},
   "outputs": [],
   "source": [
    "# Hangi türden kaç tane var gormek icin\n",
    "sns.countplot(x='target', data=df)\n",
    "plt.title(\"Çiçek Türlerine Göre Dağılım\")\n",
    "plt.show()"
   ]
  },
  {
   "cell_type": "code",
   "execution_count": null,
   "id": "995a749c-59c0-4b26-8749-d93e55c4edea",
   "metadata": {},
   "outputs": [],
   "source": [
    "# Özellikler (X) ve hedef değişken (y) olarak ayırmak icin\n",
    "X = df.drop(\"target\", axis=1)\n",
    "y = df[\"target\"]\n",
    "\n",
    "# %80 eğitim, %20 test olacak şekilde ayırmak icin\n",
    "X_train, X_test, y_train, y_test = train_test_split(X, y, test_size=0.2, random_state=42)\n",
    "\n",
    "# Verilerin boyutunu kontrol etme\n",
    "print(\"Eğitim verisi:\", X_train.shape)\n",
    "print(\"Test verisi:\", X_test.shape)\n"
   ]
  },
  {
   "cell_type": "code",
   "execution_count": null,
   "id": "cc149386-6ec8-42ff-bce8-19c36b05fd3b",
   "metadata": {},
   "outputs": [],
   "source": [
    "# Modeli oluştur ve eğit\n",
    "model = RandomForestClassifier()\n",
    "model.fit(X_train, y_train)\n",
    "\n",
    "# Test verisi ile tahmin yap\n",
    "y_pred = model.predict(X_test)\n"
   ]
  },
  {
   "cell_type": "code",
   "execution_count": null,
   "id": "8b395b06-21f7-450f-92b4-558871d07162",
   "metadata": {},
   "outputs": [],
   "source": [
    "# Doğruluk oranı ve sınıflandırma raporu\n",
    "acc = accuracy_score(y_test, y_pred)\n",
    "print(\"Doğruluk Oranı: %.2f\" % acc)\n",
    "\n",
    "print(\"\\nSınıflandırma Raporu:\\n\")\n",
    "print(classification_report(y_test, y_pred))\n"
   ]
  },
  {
   "cell_type": "code",
   "execution_count": null,
   "id": "6d142339-e6c1-44db-9384-9e25d4a65cfd",
   "metadata": {},
   "outputs": [],
   "source": []
  }
 ],
 "metadata": {
  "kernelspec": {
   "display_name": "Python [conda env:Orange]",
   "language": "python",
   "name": "conda-env-Orange-py"
  },
  "language_info": {
   "codemirror_mode": {
    "name": "ipython",
    "version": 3
   },
   "file_extension": ".py",
   "mimetype": "text/x-python",
   "name": "python",
   "nbconvert_exporter": "python",
   "pygments_lexer": "ipython3",
   "version": "3.9.12"
  }
 },
 "nbformat": 4,
 "nbformat_minor": 5
}
